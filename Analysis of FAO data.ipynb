{
 "cells": [
  {
   "cell_type": "markdown",
   "id": "3446cde8",
   "metadata": {},
   "source": [
    "# Analysis of **FAO** data from 2014 to 2018"
   ]
  },
  {
   "cell_type": "markdown",
   "id": "6f2b3c05",
   "metadata": {},
   "source": [
    "## Loading the data "
   ]
  },
  {
   "cell_type": "code",
   "execution_count": 1,
   "id": "6afa04f5",
   "metadata": {},
   "outputs": [],
   "source": [
    "import pandas as pd\n",
    "import numpy as np"
   ]
  },
  {
   "cell_type": "code",
   "execution_count": 2,
   "id": "118ff018",
   "metadata": {},
   "outputs": [],
   "source": [
    "#get the FAO data \n",
    "df = pd.read_csv(\"FoodBalanceSheets_E_Africa_NOFLAG.csv\", encoding = 'Latin-1')"
   ]
  },
  {
   "cell_type": "code",
   "execution_count": 3,
   "id": "0f12ae11",
   "metadata": {},
   "outputs": [
    {
     "data": {
      "text/html": [
       "<div>\n",
       "<style scoped>\n",
       "    .dataframe tbody tr th:only-of-type {\n",
       "        vertical-align: middle;\n",
       "    }\n",
       "\n",
       "    .dataframe tbody tr th {\n",
       "        vertical-align: top;\n",
       "    }\n",
       "\n",
       "    .dataframe thead th {\n",
       "        text-align: right;\n",
       "    }\n",
       "</style>\n",
       "<table border=\"1\" class=\"dataframe\">\n",
       "  <thead>\n",
       "    <tr style=\"text-align: right;\">\n",
       "      <th></th>\n",
       "      <th>Area Code</th>\n",
       "      <th>Area</th>\n",
       "      <th>Item Code</th>\n",
       "      <th>Item</th>\n",
       "      <th>Element Code</th>\n",
       "      <th>Element</th>\n",
       "      <th>Unit</th>\n",
       "      <th>Y2014</th>\n",
       "      <th>Y2015</th>\n",
       "      <th>Y2016</th>\n",
       "      <th>Y2017</th>\n",
       "      <th>Y2018</th>\n",
       "    </tr>\n",
       "  </thead>\n",
       "  <tbody>\n",
       "    <tr>\n",
       "      <th>0</th>\n",
       "      <td>4</td>\n",
       "      <td>Algeria</td>\n",
       "      <td>2501</td>\n",
       "      <td>Population</td>\n",
       "      <td>511</td>\n",
       "      <td>Total Population - Both sexes</td>\n",
       "      <td>1000 persons</td>\n",
       "      <td>38924.00</td>\n",
       "      <td>39728.00</td>\n",
       "      <td>40551.00</td>\n",
       "      <td>41389.00</td>\n",
       "      <td>42228.00</td>\n",
       "    </tr>\n",
       "    <tr>\n",
       "      <th>1</th>\n",
       "      <td>4</td>\n",
       "      <td>Algeria</td>\n",
       "      <td>2501</td>\n",
       "      <td>Population</td>\n",
       "      <td>5301</td>\n",
       "      <td>Domestic supply quantity</td>\n",
       "      <td>1000 tonnes</td>\n",
       "      <td>0.00</td>\n",
       "      <td>0.00</td>\n",
       "      <td>0.00</td>\n",
       "      <td>0.00</td>\n",
       "      <td>0.00</td>\n",
       "    </tr>\n",
       "    <tr>\n",
       "      <th>2</th>\n",
       "      <td>4</td>\n",
       "      <td>Algeria</td>\n",
       "      <td>2901</td>\n",
       "      <td>Grand Total</td>\n",
       "      <td>664</td>\n",
       "      <td>Food supply (kcal/capita/day)</td>\n",
       "      <td>kcal/capita/day</td>\n",
       "      <td>3377.00</td>\n",
       "      <td>3379.00</td>\n",
       "      <td>3372.00</td>\n",
       "      <td>3341.00</td>\n",
       "      <td>3322.00</td>\n",
       "    </tr>\n",
       "    <tr>\n",
       "      <th>3</th>\n",
       "      <td>4</td>\n",
       "      <td>Algeria</td>\n",
       "      <td>2901</td>\n",
       "      <td>Grand Total</td>\n",
       "      <td>674</td>\n",
       "      <td>Protein supply quantity (g/capita/day)</td>\n",
       "      <td>g/capita/day</td>\n",
       "      <td>94.90</td>\n",
       "      <td>94.35</td>\n",
       "      <td>94.72</td>\n",
       "      <td>92.82</td>\n",
       "      <td>91.83</td>\n",
       "    </tr>\n",
       "    <tr>\n",
       "      <th>4</th>\n",
       "      <td>4</td>\n",
       "      <td>Algeria</td>\n",
       "      <td>2901</td>\n",
       "      <td>Grand Total</td>\n",
       "      <td>684</td>\n",
       "      <td>Fat supply quantity (g/capita/day)</td>\n",
       "      <td>g/capita/day</td>\n",
       "      <td>80.06</td>\n",
       "      <td>79.36</td>\n",
       "      <td>77.40</td>\n",
       "      <td>80.19</td>\n",
       "      <td>77.28</td>\n",
       "    </tr>\n",
       "    <tr>\n",
       "      <th>5</th>\n",
       "      <td>4</td>\n",
       "      <td>Algeria</td>\n",
       "      <td>2903</td>\n",
       "      <td>Vegetal Products</td>\n",
       "      <td>664</td>\n",
       "      <td>Food supply (kcal/capita/day)</td>\n",
       "      <td>kcal/capita/day</td>\n",
       "      <td>2932.00</td>\n",
       "      <td>2958.00</td>\n",
       "      <td>2941.00</td>\n",
       "      <td>2921.00</td>\n",
       "      <td>2932.00</td>\n",
       "    </tr>\n",
       "    <tr>\n",
       "      <th>6</th>\n",
       "      <td>4</td>\n",
       "      <td>Algeria</td>\n",
       "      <td>2903</td>\n",
       "      <td>Vegetal Products</td>\n",
       "      <td>674</td>\n",
       "      <td>Protein supply quantity (g/capita/day)</td>\n",
       "      <td>g/capita/day</td>\n",
       "      <td>67.14</td>\n",
       "      <td>67.38</td>\n",
       "      <td>67.37</td>\n",
       "      <td>66.11</td>\n",
       "      <td>67.10</td>\n",
       "    </tr>\n",
       "    <tr>\n",
       "      <th>7</th>\n",
       "      <td>4</td>\n",
       "      <td>Algeria</td>\n",
       "      <td>2903</td>\n",
       "      <td>Vegetal Products</td>\n",
       "      <td>684</td>\n",
       "      <td>Fat supply quantity (g/capita/day)</td>\n",
       "      <td>g/capita/day</td>\n",
       "      <td>53.84</td>\n",
       "      <td>54.72</td>\n",
       "      <td>52.04</td>\n",
       "      <td>55.59</td>\n",
       "      <td>54.57</td>\n",
       "    </tr>\n",
       "    <tr>\n",
       "      <th>8</th>\n",
       "      <td>4</td>\n",
       "      <td>Algeria</td>\n",
       "      <td>2941</td>\n",
       "      <td>Animal Products</td>\n",
       "      <td>664</td>\n",
       "      <td>Food supply (kcal/capita/day)</td>\n",
       "      <td>kcal/capita/day</td>\n",
       "      <td>444.00</td>\n",
       "      <td>421.00</td>\n",
       "      <td>431.00</td>\n",
       "      <td>421.00</td>\n",
       "      <td>390.00</td>\n",
       "    </tr>\n",
       "    <tr>\n",
       "      <th>9</th>\n",
       "      <td>4</td>\n",
       "      <td>Algeria</td>\n",
       "      <td>2941</td>\n",
       "      <td>Animal Products</td>\n",
       "      <td>674</td>\n",
       "      <td>Protein supply quantity (g/capita/day)</td>\n",
       "      <td>g/capita/day</td>\n",
       "      <td>27.76</td>\n",
       "      <td>26.97</td>\n",
       "      <td>27.35</td>\n",
       "      <td>26.71</td>\n",
       "      <td>24.73</td>\n",
       "    </tr>\n",
       "  </tbody>\n",
       "</table>\n",
       "</div>"
      ],
      "text/plain": [
       "   Area Code     Area  Item Code              Item  Element Code  \\\n",
       "0          4  Algeria       2501        Population           511   \n",
       "1          4  Algeria       2501        Population          5301   \n",
       "2          4  Algeria       2901       Grand Total           664   \n",
       "3          4  Algeria       2901       Grand Total           674   \n",
       "4          4  Algeria       2901       Grand Total           684   \n",
       "5          4  Algeria       2903  Vegetal Products           664   \n",
       "6          4  Algeria       2903  Vegetal Products           674   \n",
       "7          4  Algeria       2903  Vegetal Products           684   \n",
       "8          4  Algeria       2941   Animal Products           664   \n",
       "9          4  Algeria       2941   Animal Products           674   \n",
       "\n",
       "                                  Element             Unit     Y2014  \\\n",
       "0           Total Population - Both sexes     1000 persons  38924.00   \n",
       "1                Domestic supply quantity      1000 tonnes      0.00   \n",
       "2           Food supply (kcal/capita/day)  kcal/capita/day   3377.00   \n",
       "3  Protein supply quantity (g/capita/day)     g/capita/day     94.90   \n",
       "4      Fat supply quantity (g/capita/day)     g/capita/day     80.06   \n",
       "5           Food supply (kcal/capita/day)  kcal/capita/day   2932.00   \n",
       "6  Protein supply quantity (g/capita/day)     g/capita/day     67.14   \n",
       "7      Fat supply quantity (g/capita/day)     g/capita/day     53.84   \n",
       "8           Food supply (kcal/capita/day)  kcal/capita/day    444.00   \n",
       "9  Protein supply quantity (g/capita/day)     g/capita/day     27.76   \n",
       "\n",
       "      Y2015     Y2016     Y2017     Y2018  \n",
       "0  39728.00  40551.00  41389.00  42228.00  \n",
       "1      0.00      0.00      0.00      0.00  \n",
       "2   3379.00   3372.00   3341.00   3322.00  \n",
       "3     94.35     94.72     92.82     91.83  \n",
       "4     79.36     77.40     80.19     77.28  \n",
       "5   2958.00   2941.00   2921.00   2932.00  \n",
       "6     67.38     67.37     66.11     67.10  \n",
       "7     54.72     52.04     55.59     54.57  \n",
       "8    421.00    431.00    421.00    390.00  \n",
       "9     26.97     27.35     26.71     24.73  "
      ]
     },
     "execution_count": 3,
     "metadata": {},
     "output_type": "execute_result"
    }
   ],
   "source": [
    "#getting the first rows\n",
    "df.head(10)"
   ]
  },
  {
   "cell_type": "code",
   "execution_count": 4,
   "id": "7c8f9ae8",
   "metadata": {
    "scrolled": true
   },
   "outputs": [
    {
     "data": {
      "text/html": [
       "<div>\n",
       "<style scoped>\n",
       "    .dataframe tbody tr th:only-of-type {\n",
       "        vertical-align: middle;\n",
       "    }\n",
       "\n",
       "    .dataframe tbody tr th {\n",
       "        vertical-align: top;\n",
       "    }\n",
       "\n",
       "    .dataframe thead th {\n",
       "        text-align: right;\n",
       "    }\n",
       "</style>\n",
       "<table border=\"1\" class=\"dataframe\">\n",
       "  <thead>\n",
       "    <tr style=\"text-align: right;\">\n",
       "      <th></th>\n",
       "      <th>Area Code</th>\n",
       "      <th>Area</th>\n",
       "      <th>Item Code</th>\n",
       "      <th>Item</th>\n",
       "      <th>Element Code</th>\n",
       "      <th>Element</th>\n",
       "      <th>Unit</th>\n",
       "      <th>Y2014</th>\n",
       "      <th>Y2015</th>\n",
       "      <th>Y2016</th>\n",
       "      <th>Y2017</th>\n",
       "      <th>Y2018</th>\n",
       "    </tr>\n",
       "  </thead>\n",
       "  <tbody>\n",
       "    <tr>\n",
       "      <th>60933</th>\n",
       "      <td>181</td>\n",
       "      <td>Zimbabwe</td>\n",
       "      <td>2899</td>\n",
       "      <td>Miscellaneous</td>\n",
       "      <td>5611</td>\n",
       "      <td>Import Quantity</td>\n",
       "      <td>1000 tonnes</td>\n",
       "      <td>42.00</td>\n",
       "      <td>47.00</td>\n",
       "      <td>33.00</td>\n",
       "      <td>15.00</td>\n",
       "      <td>16.00</td>\n",
       "    </tr>\n",
       "    <tr>\n",
       "      <th>60934</th>\n",
       "      <td>181</td>\n",
       "      <td>Zimbabwe</td>\n",
       "      <td>2899</td>\n",
       "      <td>Miscellaneous</td>\n",
       "      <td>5072</td>\n",
       "      <td>Stock Variation</td>\n",
       "      <td>1000 tonnes</td>\n",
       "      <td>0.00</td>\n",
       "      <td>0.00</td>\n",
       "      <td>0.00</td>\n",
       "      <td>-4.00</td>\n",
       "      <td>0.00</td>\n",
       "    </tr>\n",
       "    <tr>\n",
       "      <th>60935</th>\n",
       "      <td>181</td>\n",
       "      <td>Zimbabwe</td>\n",
       "      <td>2899</td>\n",
       "      <td>Miscellaneous</td>\n",
       "      <td>5911</td>\n",
       "      <td>Export Quantity</td>\n",
       "      <td>1000 tonnes</td>\n",
       "      <td>1.00</td>\n",
       "      <td>1.00</td>\n",
       "      <td>0.00</td>\n",
       "      <td>0.00</td>\n",
       "      <td>1.00</td>\n",
       "    </tr>\n",
       "    <tr>\n",
       "      <th>60936</th>\n",
       "      <td>181</td>\n",
       "      <td>Zimbabwe</td>\n",
       "      <td>2899</td>\n",
       "      <td>Miscellaneous</td>\n",
       "      <td>5301</td>\n",
       "      <td>Domestic supply quantity</td>\n",
       "      <td>1000 tonnes</td>\n",
       "      <td>42.00</td>\n",
       "      <td>46.00</td>\n",
       "      <td>33.00</td>\n",
       "      <td>19.00</td>\n",
       "      <td>16.00</td>\n",
       "    </tr>\n",
       "    <tr>\n",
       "      <th>60937</th>\n",
       "      <td>181</td>\n",
       "      <td>Zimbabwe</td>\n",
       "      <td>2899</td>\n",
       "      <td>Miscellaneous</td>\n",
       "      <td>5170</td>\n",
       "      <td>Residuals</td>\n",
       "      <td>1000 tonnes</td>\n",
       "      <td>0.00</td>\n",
       "      <td>0.00</td>\n",
       "      <td>0.00</td>\n",
       "      <td>0.00</td>\n",
       "      <td>0.00</td>\n",
       "    </tr>\n",
       "    <tr>\n",
       "      <th>60938</th>\n",
       "      <td>181</td>\n",
       "      <td>Zimbabwe</td>\n",
       "      <td>2899</td>\n",
       "      <td>Miscellaneous</td>\n",
       "      <td>5142</td>\n",
       "      <td>Food</td>\n",
       "      <td>1000 tonnes</td>\n",
       "      <td>42.00</td>\n",
       "      <td>46.00</td>\n",
       "      <td>33.00</td>\n",
       "      <td>19.00</td>\n",
       "      <td>16.00</td>\n",
       "    </tr>\n",
       "    <tr>\n",
       "      <th>60939</th>\n",
       "      <td>181</td>\n",
       "      <td>Zimbabwe</td>\n",
       "      <td>2899</td>\n",
       "      <td>Miscellaneous</td>\n",
       "      <td>645</td>\n",
       "      <td>Food supply quantity (kg/capita/yr)</td>\n",
       "      <td>kg</td>\n",
       "      <td>3.06</td>\n",
       "      <td>3.33</td>\n",
       "      <td>2.35</td>\n",
       "      <td>1.33</td>\n",
       "      <td>1.08</td>\n",
       "    </tr>\n",
       "    <tr>\n",
       "      <th>60940</th>\n",
       "      <td>181</td>\n",
       "      <td>Zimbabwe</td>\n",
       "      <td>2899</td>\n",
       "      <td>Miscellaneous</td>\n",
       "      <td>664</td>\n",
       "      <td>Food supply (kcal/capita/day)</td>\n",
       "      <td>kcal/capita/day</td>\n",
       "      <td>3.00</td>\n",
       "      <td>4.00</td>\n",
       "      <td>3.00</td>\n",
       "      <td>1.00</td>\n",
       "      <td>1.00</td>\n",
       "    </tr>\n",
       "    <tr>\n",
       "      <th>60941</th>\n",
       "      <td>181</td>\n",
       "      <td>Zimbabwe</td>\n",
       "      <td>2899</td>\n",
       "      <td>Miscellaneous</td>\n",
       "      <td>674</td>\n",
       "      <td>Protein supply quantity (g/capita/day)</td>\n",
       "      <td>g/capita/day</td>\n",
       "      <td>0.10</td>\n",
       "      <td>0.11</td>\n",
       "      <td>0.08</td>\n",
       "      <td>0.04</td>\n",
       "      <td>0.04</td>\n",
       "    </tr>\n",
       "    <tr>\n",
       "      <th>60942</th>\n",
       "      <td>181</td>\n",
       "      <td>Zimbabwe</td>\n",
       "      <td>2899</td>\n",
       "      <td>Miscellaneous</td>\n",
       "      <td>684</td>\n",
       "      <td>Fat supply quantity (g/capita/day)</td>\n",
       "      <td>g/capita/day</td>\n",
       "      <td>0.04</td>\n",
       "      <td>0.05</td>\n",
       "      <td>0.03</td>\n",
       "      <td>0.02</td>\n",
       "      <td>0.01</td>\n",
       "    </tr>\n",
       "  </tbody>\n",
       "</table>\n",
       "</div>"
      ],
      "text/plain": [
       "       Area Code      Area  Item Code           Item  Element Code  \\\n",
       "60933        181  Zimbabwe       2899  Miscellaneous          5611   \n",
       "60934        181  Zimbabwe       2899  Miscellaneous          5072   \n",
       "60935        181  Zimbabwe       2899  Miscellaneous          5911   \n",
       "60936        181  Zimbabwe       2899  Miscellaneous          5301   \n",
       "60937        181  Zimbabwe       2899  Miscellaneous          5170   \n",
       "60938        181  Zimbabwe       2899  Miscellaneous          5142   \n",
       "60939        181  Zimbabwe       2899  Miscellaneous           645   \n",
       "60940        181  Zimbabwe       2899  Miscellaneous           664   \n",
       "60941        181  Zimbabwe       2899  Miscellaneous           674   \n",
       "60942        181  Zimbabwe       2899  Miscellaneous           684   \n",
       "\n",
       "                                      Element             Unit  Y2014  Y2015  \\\n",
       "60933                         Import Quantity      1000 tonnes  42.00  47.00   \n",
       "60934                         Stock Variation      1000 tonnes   0.00   0.00   \n",
       "60935                         Export Quantity      1000 tonnes   1.00   1.00   \n",
       "60936                Domestic supply quantity      1000 tonnes  42.00  46.00   \n",
       "60937                               Residuals      1000 tonnes   0.00   0.00   \n",
       "60938                                    Food      1000 tonnes  42.00  46.00   \n",
       "60939     Food supply quantity (kg/capita/yr)               kg   3.06   3.33   \n",
       "60940           Food supply (kcal/capita/day)  kcal/capita/day   3.00   4.00   \n",
       "60941  Protein supply quantity (g/capita/day)     g/capita/day   0.10   0.11   \n",
       "60942      Fat supply quantity (g/capita/day)     g/capita/day   0.04   0.05   \n",
       "\n",
       "       Y2016  Y2017  Y2018  \n",
       "60933  33.00  15.00  16.00  \n",
       "60934   0.00  -4.00   0.00  \n",
       "60935   0.00   0.00   1.00  \n",
       "60936  33.00  19.00  16.00  \n",
       "60937   0.00   0.00   0.00  \n",
       "60938  33.00  19.00  16.00  \n",
       "60939   2.35   1.33   1.08  \n",
       "60940   3.00   1.00   1.00  \n",
       "60941   0.08   0.04   0.04  \n",
       "60942   0.03   0.02   0.01  "
      ]
     },
     "execution_count": 4,
     "metadata": {},
     "output_type": "execute_result"
    }
   ],
   "source": [
    "#getting the last rows \n",
    "df.tail(10)"
   ]
  },
  {
   "cell_type": "code",
   "execution_count": 5,
   "id": "5fcc38d8",
   "metadata": {
    "scrolled": true
   },
   "outputs": [
    {
     "name": "stdout",
     "output_type": "stream",
     "text": [
      "<class 'pandas.core.frame.DataFrame'>\n",
      "RangeIndex: 60943 entries, 0 to 60942\n",
      "Data columns (total 12 columns):\n",
      " #   Column        Non-Null Count  Dtype  \n",
      "---  ------        --------------  -----  \n",
      " 0   Area Code     60943 non-null  int64  \n",
      " 1   Area          60943 non-null  object \n",
      " 2   Item Code     60943 non-null  int64  \n",
      " 3   Item          60943 non-null  object \n",
      " 4   Element Code  60943 non-null  int64  \n",
      " 5   Element       60943 non-null  object \n",
      " 6   Unit          60943 non-null  object \n",
      " 7   Y2014         59354 non-null  float64\n",
      " 8   Y2015         59395 non-null  float64\n",
      " 9   Y2016         59408 non-null  float64\n",
      " 10  Y2017         59437 non-null  float64\n",
      " 11  Y2018         59507 non-null  float64\n",
      "dtypes: float64(5), int64(3), object(4)\n",
      "memory usage: 4.6+ MB\n"
     ]
    }
   ],
   "source": [
    "#ascertain for null values, the number of non-null values, and the types\n",
    "df.info() "
   ]
  },
  {
   "cell_type": "code",
   "execution_count": 6,
   "id": "142ea07e",
   "metadata": {
    "scrolled": true
   },
   "outputs": [
    {
     "data": {
      "text/plain": [
       "Area Code          0\n",
       "Area               0\n",
       "Item Code          0\n",
       "Item               0\n",
       "Element Code       0\n",
       "Element            0\n",
       "Unit               0\n",
       "Y2014           1589\n",
       "Y2015           1548\n",
       "Y2016           1535\n",
       "Y2017           1506\n",
       "Y2018           1436\n",
       "dtype: int64"
      ]
     },
     "execution_count": 6,
     "metadata": {},
     "output_type": "execute_result"
    }
   ],
   "source": [
    "#check for null values for each colunn\n",
    "df.isnull().sum()"
   ]
  },
  {
   "cell_type": "code",
   "execution_count": 7,
   "id": "5def8883",
   "metadata": {
    "scrolled": true
   },
   "outputs": [
    {
     "name": "stdout",
     "output_type": "stream",
     "text": [
      "All the elements in Area are made up of ['Algeria' 'Angola' 'Benin' 'Botswana' 'Burkina Faso' 'Cabo Verde'\n",
      " 'Cameroon' 'Central African Republic' 'Chad' 'Comoros' 'Congo'\n",
      " \"Côte d'Ivoire\" 'Djibouti' 'Egypt' 'Eswatini' 'Ethiopia' 'Ethiopia PDR'\n",
      " 'Gabon' 'Gambia' 'Ghana' 'Guinea' 'Guinea-Bissau' 'Kenya' 'Lesotho'\n",
      " 'Liberia' 'Madagascar' 'Malawi' 'Mali' 'Mauritania' 'Mauritius' 'Morocco'\n",
      " 'Mozambique' 'Namibia' 'Niger' 'Nigeria' 'Rwanda' 'Sao Tome and Principe'\n",
      " 'Senegal' 'Seychelles' 'Sierra Leone' 'South Africa' 'Sudan'\n",
      " 'Sudan (former)' 'Togo' 'Tunisia' 'Uganda' 'United Republic of Tanzania'\n",
      " 'Zambia' 'Zimbabwe']\n",
      "\n",
      "All these totalling 49\n",
      "-----------------------------------------------------------------------\n",
      "\n",
      "All the elements in Item are made up of ['Population' 'Grand Total' 'Vegetal Products' 'Animal Products'\n",
      " 'Cereals - Excluding Beer' 'Wheat and products' 'Rice and products'\n",
      " 'Barley and products' 'Maize and products' 'Rye and products' 'Oats'\n",
      " 'Millet and products' 'Sorghum and products' 'Cereals, Other'\n",
      " 'Starchy Roots' 'Cassava and products' 'Potatoes and products'\n",
      " 'Sweet potatoes' 'Yams' 'Roots, Other' 'Sugar Crops' 'Sugar cane'\n",
      " 'Sugar beet' 'Sugar & Sweeteners' 'Sugar (Raw Equivalent)'\n",
      " 'Sweeteners, Other' 'Honey' 'Pulses' 'Beans' 'Peas'\n",
      " 'Pulses, Other and products' 'Treenuts' 'Nuts and products' 'Oilcrops'\n",
      " 'Soyabeans' 'Groundnuts (Shelled Eq)' 'Sunflower seed'\n",
      " 'Rape and Mustardseed' 'Cottonseed' 'Coconuts - Incl Copra' 'Sesame seed'\n",
      " 'Olives (including preserved)' 'Oilcrops, Other' 'Vegetable Oils'\n",
      " 'Soyabean Oil' 'Groundnut Oil' 'Sunflowerseed Oil' 'Rape and Mustard Oil'\n",
      " 'Cottonseed Oil' 'Palmkernel Oil' 'Palm Oil' 'Coconut Oil'\n",
      " 'Sesameseed Oil' 'Olive Oil' 'Maize Germ Oil' 'Oilcrops Oil, Other'\n",
      " 'Vegetables' 'Tomatoes and products' 'Onions' 'Vegetables, Other'\n",
      " 'Fruits - Excluding Wine' 'Oranges, Mandarines'\n",
      " 'Lemons, Limes and products' 'Grapefruit and products' 'Citrus, Other'\n",
      " 'Bananas' 'Plantains' 'Apples and products' 'Pineapples and products'\n",
      " 'Dates' 'Grapes and products (excl wine)' 'Fruits, Other' 'Stimulants'\n",
      " 'Coffee and products' 'Cocoa Beans and products' 'Tea (including mate)'\n",
      " 'Spices' 'Pepper' 'Pimento' 'Cloves' 'Spices, Other'\n",
      " 'Alcoholic Beverages' 'Wine' 'Beer' 'Beverages, Fermented'\n",
      " 'Beverages, Alcoholic' 'Alcohol, Non-Food' 'Meat' 'Bovine Meat'\n",
      " 'Mutton & Goat Meat' 'Pigmeat' 'Poultry Meat' 'Meat, Other' 'Offals'\n",
      " 'Offals, Edible' 'Animal fats' 'Butter, Ghee' 'Cream'\n",
      " 'Fats, Animals, Raw' 'Fish, Body Oil' 'Fish, Liver Oil' 'Eggs'\n",
      " 'Milk - Excluding Butter' 'Fish, Seafood' 'Freshwater Fish'\n",
      " 'Demersal Fish' 'Pelagic Fish' 'Marine Fish, Other' 'Crustaceans'\n",
      " 'Cephalopods' 'Molluscs, Other' 'Aquatic Products, Other'\n",
      " 'Aquatic Animals, Others' 'Aquatic Plants' 'Miscellaneous' 'Infant food'\n",
      " 'Sugar non-centrifugal' 'Palm kernels' 'Ricebran Oil']\n",
      "\n",
      "All these totalling 119\n",
      "-----------------------------------------------------------------------\n",
      "\n",
      "All the elements in Element are made up of ['Total Population - Both sexes' 'Domestic supply quantity'\n",
      " 'Food supply (kcal/capita/day)' 'Protein supply quantity (g/capita/day)'\n",
      " 'Fat supply quantity (g/capita/day)' 'Production' 'Import Quantity'\n",
      " 'Stock Variation' 'Export Quantity' 'Feed' 'Seed' 'Losses' 'Processing'\n",
      " 'Other uses (non-food)' 'Residuals' 'Food'\n",
      " 'Food supply quantity (kg/capita/yr)' 'Tourist consumption']\n",
      "\n",
      "All these totalling 18\n",
      "-----------------------------------------------------------------------\n",
      "\n",
      "All the elements in Unit are made up of ['1000 persons' '1000 tonnes' 'kcal/capita/day' 'g/capita/day' 'kg']\n",
      "\n",
      "All these totalling 5\n",
      "-----------------------------------------------------------------------\n",
      "\n"
     ]
    }
   ],
   "source": [
    "#get the unique Areas, Item, Element and Unit for all the rows \n",
    "for i in [1,3,5,6]:\n",
    "    print (\"All the elements in\", df.columns[i], \"are made up of\", str(df.iloc[:,i].unique()))\n",
    "    print ()\n",
    "    print (\"All these totalling\", len(df.iloc[:,i].unique()))\n",
    "    print (\"-----------------------------------------------------------------------\")\n",
    "    print()"
   ]
  },
  {
   "cell_type": "markdown",
   "id": "123e7e27",
   "metadata": {},
   "source": [
    "## Exploratory Data Analysis (EDA)"
   ]
  },
  {
   "cell_type": "markdown",
   "id": "24130677",
   "metadata": {},
   "source": [
    "### 1) What is the total sum of animal fat produced in 2014 and 2017"
   ]
  },
  {
   "cell_type": "code",
   "execution_count": 8,
   "id": "f8d07351",
   "metadata": {},
   "outputs": [
    {
     "name": "stdout",
     "output_type": "stream",
     "text": [
      "The total animal fat produced in 2014: 87797.0\n",
      "\n",
      "The total animal fat produced in 2017: 116456.0\n",
      "\n",
      "\n",
      " The total animal fat for the two years: 204253.0\n"
     ]
    }
   ],
   "source": [
    "#subset the Items and Element columns containing information on animal fats \n",
    "#and production\n",
    "df_animal = df[(df.iloc[:,3] == 'Animal fats') & (df.iloc[:,5]=='Production')]\n",
    "\n",
    "#group all the animal fats and solve for their production in the year 2014 and 2017\n",
    "df_sum_of_prod_14_17=df_animal.groupby('Item')[[\"Y2014\",\"Y2017\"]].sum()\n",
    "print ('The total animal fat produced in 2014:', df_sum_of_prod_14_17.iloc[0,0])\n",
    "print()\n",
    "print ('The total animal fat produced in 2017:', df_sum_of_prod_14_17.iloc[0,1])\n",
    "print ()\n",
    "\n",
    "print ('\\n The total animal fat for the two years:', df_sum_of_prod_14_17.values.sum())"
   ]
  },
  {
   "cell_type": "markdown",
   "id": "973ade00",
   "metadata": {},
   "source": [
    "### 2) Mean and standard deviation of the entire dataset for the whole year 2015 (to 3 dp)"
   ]
  },
  {
   "cell_type": "code",
   "execution_count": 9,
   "id": "e85b5d60",
   "metadata": {},
   "outputs": [
    {
     "name": "stdout",
     "output_type": "stream",
     "text": [
      "Mean of the dataset for 2015: 135.236\n",
      "\n",
      "Standard deviation of the dataset for 2015: 1603.39\n"
     ]
    }
   ],
   "source": [
    "#subset the data for 2015 and access the mean\n",
    "df_2015=df.loc[:,\"Y2015\"]\n",
    "print (\"Mean of the dataset for 2015:\", np.mean(df_2015).round(3))\n",
    "print()\n",
    "print (\"Standard deviation of the dataset for 2015:\", np.std(df_2015).round (3))"
   ]
  },
  {
   "cell_type": "markdown",
   "id": "3e4c4ceb",
   "metadata": {},
   "source": [
    "### 3) What is the total number and percentage of missing data in 2016 (in 2dp)"
   ]
  },
  {
   "cell_type": "code",
   "execution_count": 10,
   "id": "7a041c57",
   "metadata": {},
   "outputs": [
    {
     "name": "stdout",
     "output_type": "stream",
     "text": [
      "Percentage of missing data in 2016: 2.52 %\n"
     ]
    }
   ],
   "source": [
    "#calculate for missing data \n",
    "df_2016 = df.loc[:,\"Y2016\"]\n",
    "df_2016_nullsum = df_2016.isnull().sum()\n",
    "\n",
    "#calculate percentage \n",
    "percent = (df_2016_nullsum / len(df_2016)) * 100 \n",
    "print (\"Percentage of missing data in 2016:\", percent.round(2), \"%\")"
   ]
  },
  {
   "cell_type": "markdown",
   "id": "da595948",
   "metadata": {},
   "source": [
    "### 4) Which year had the highest correlation with 'Element code'"
   ]
  },
  {
   "cell_type": "code",
   "execution_count": 11,
   "id": "37214fd1",
   "metadata": {
    "scrolled": true
   },
   "outputs": [
    {
     "name": "stdout",
     "output_type": "stream",
     "text": [
      "The year with the highest correlation with Element code: Y2014\n"
     ]
    }
   ],
   "source": [
    "#Get the correlations of all the columns\n",
    "df_corr = df.corr()\n",
    "\n",
    "#subset the correlation of Element Code for the year 2014 to 2018\n",
    "corr_year= df.corr()[\"Element Code\"][\"Y2014\":\"Y2018\"] \n",
    "\n",
    "#Extract the highest correlated value and it's index.\n",
    "high_corr_year = corr_year.index[np.argmax(corr_year)]\n",
    "print (\"The year with the highest correlation with Element code:\", high_corr_year)"
   ]
  },
  {
   "cell_type": "markdown",
   "id": "b792cde7",
   "metadata": {},
   "source": [
    "### 5) What is the highest sum of Import Quantity"
   ]
  },
  {
   "cell_type": "code",
   "execution_count": 12,
   "id": "fae02039",
   "metadata": {
    "scrolled": true
   },
   "outputs": [
    {
     "name": "stdout",
     "output_type": "stream",
     "text": [
      "The highest sum of import quantity: $ 294559.09  in  Y2017\n"
     ]
    }
   ],
   "source": [
    "#Extract all the sums for all values of the Element column\n",
    "Element = df.groupby(\"Element\").sum()\n",
    "\n",
    "#subset values of Import quantity for the years 2014 to 2018\n",
    "Elements = Element.loc[\"Import Quantity\"][\"Y2014\":\"Y2018\"]\n",
    "\n",
    "#Get the highest quantity and its corresponding year\n",
    "high_year=Elements.index[np.argmax(Elements)]\n",
    "print(\"The highest sum of import quantity: $\",Elements.max(), \" in \", high_year)"
   ]
  },
  {
   "cell_type": "markdown",
   "id": "8b58ac88",
   "metadata": {},
   "source": [
    "### 6)  Total number of the sum of production in 2014"
   ]
  },
  {
   "cell_type": "code",
   "execution_count": 13,
   "id": "8de528a5",
   "metadata": {
    "scrolled": false
   },
   "outputs": [
    {
     "name": "stdout",
     "output_type": "stream",
     "text": [
      "The total sum of production in 2014: $ 1931287.75\n"
     ]
    }
   ],
   "source": [
    "#from subset the sum of production in 2014 from the already summed Element variable\n",
    "print (\"The total sum of production in 2014: $\", Element.loc[\"Production\",\"Y2014\"])"
   ]
  },
  {
   "cell_type": "markdown",
   "id": "3ad15c4e",
   "metadata": {},
   "source": [
    "### 7) Elements with the highest sum in 2018 "
   ]
  },
  {
   "cell_type": "code",
   "execution_count": 14,
   "id": "43525628",
   "metadata": {},
   "outputs": [
    {
     "name": "stdout",
     "output_type": "stream",
     "text": [
      "The highest Element for 2018: Domestic supply quantity with $ 2161192.1\n"
     ]
    }
   ],
   "source": [
    "#Get the highest sum for 2018 and get the name \n",
    "Element_max = Element[\"Y2018\"].max()\n",
    "high_2018 = Element.index[np.argmax(Element [\"Y2018\"])]\n",
    "\n",
    "print (\"The highest Element for 2018:\", high_2018, \"with $\", Element_max) "
   ]
  },
  {
   "cell_type": "markdown",
   "id": "91d88113",
   "metadata": {},
   "source": [
    "### 8) Which of these elements had the third lowest sum in 2018"
   ]
  },
  {
   "cell_type": "code",
   "execution_count": 15,
   "id": "5578ca9b",
   "metadata": {
    "scrolled": true
   },
   "outputs": [
    {
     "name": "stdout",
     "output_type": "stream",
     "text": [
      "The element with the third lowest sum in 2018: Protein supply quantity (g/capita/day) with $ 11833.56\n"
     ]
    }
   ],
   "source": [
    "#sort the sums of the element by 2018 and in ascending order\n",
    "sort_element = Element.copy().sort_values(\"Y2018\") \n",
    "\n",
    "#extract the third lowest for 2018\n",
    "third_low= sort_element.iloc[2,-1]\n",
    "\n",
    "#extract its index \n",
    "third_ind = sort_element.index[2]\n",
    "\n",
    "print(\"The element with the third lowest sum in 2018:\", third_ind, \"with $\", third_low)\n"
   ]
  },
  {
   "cell_type": "markdown",
   "id": "da925b1c",
   "metadata": {},
   "source": [
    "### 9) What is the total import quantity in Algeria in 2018"
   ]
  },
  {
   "cell_type": "code",
   "execution_count": 16,
   "id": "997cc2ad",
   "metadata": {
    "scrolled": false
   },
   "outputs": [
    {
     "name": "stdout",
     "output_type": "stream",
     "text": [
      "The total import quantity in Algeria in 2018 is $ 36238.29\n"
     ]
    }
   ],
   "source": [
    "#get the total import quantities for all countries\n",
    "import_q = df[df[\"Element\"] == \"Import Quantity\"].groupby([\"Area\",\"Element\"]).sum() \n",
    "\n",
    "#subset the import quantity in Algeria in 2018\n",
    "Alg_import_2018 = import_q.loc[\"Algeria\",\"Y2018\"][0]\n",
    "print (\"The total import quantity in Algeria in 2018 is $\", Alg_import_2018)"
   ]
  },
  {
   "cell_type": "markdown",
   "id": "bf66d4fa",
   "metadata": {},
   "source": [
    "### 10) Total number of unique countries"
   ]
  },
  {
   "cell_type": "code",
   "execution_count": 17,
   "id": "768c315b",
   "metadata": {},
   "outputs": [
    {
     "name": "stdout",
     "output_type": "stream",
     "text": [
      "Total number of countries: 49\n"
     ]
    }
   ],
   "source": [
    "#get the number of countries\n",
    "\n",
    "no_of_countries = len(df[\"Area\"].unique())\n",
    "print(\"Total number of countries:\", no_of_countries)"
   ]
  }
 ],
 "metadata": {
  "kernelspec": {
   "display_name": "Python 3 (ipykernel)",
   "language": "python",
   "name": "python3"
  },
  "language_info": {
   "codemirror_mode": {
    "name": "ipython",
    "version": 3
   },
   "file_extension": ".py",
   "mimetype": "text/x-python",
   "name": "python",
   "nbconvert_exporter": "python",
   "pygments_lexer": "ipython3",
   "version": "3.9.7"
  }
 },
 "nbformat": 4,
 "nbformat_minor": 5
}
